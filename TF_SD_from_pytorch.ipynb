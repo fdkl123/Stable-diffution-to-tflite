{
 "cells": [
  {
   "cell_type": "code",
   "execution_count": 1,
   "id": "1190a76d",
   "metadata": {
    "scrolled": true
   },
   "outputs": [
    {
     "name": "stdout",
     "output_type": "stream",
     "text": [
      "Init Plugin\n",
      "Init Graph Optimizer\n",
      "Init Kernel\n"
     ]
    }
   ],
   "source": [
    "import tensorflow as tf\n",
    "import numpy as np\n",
    "import torch\n",
    "\n",
    "import math \n",
    "import os"
   ]
  },
  {
   "cell_type": "code",
   "execution_count": 2,
   "id": "da17caae",
   "metadata": {},
   "outputs": [],
   "source": [
    "%matplotlib inline\n",
    "\n",
    "import matplotlib\n",
    "import numpy as np\n",
    "import matplotlib.pyplot as plt"
   ]
  },
  {
   "cell_type": "code",
   "execution_count": 3,
   "id": "8c629384",
   "metadata": {
    "scrolled": false
   },
   "outputs": [
    {
     "name": "stderr",
     "output_type": "stream",
     "text": [
      "/Users/divamgupta/miniforge3/lib/python3.9/site-packages/tensorflow_addons/utils/ensure_tf_install.py:53: UserWarning: Tensorflow Addons supports using Python ops for all Tensorflow versions above or equal to 2.8.0 and strictly below 2.11.0 (nightly versions are not supported). \n",
      " The versions of TensorFlow you are currently using is 2.6.0 and is not supported. \n",
      "Some things might work, some things might not.\n",
      "If you were to encounter a bug, do not file an issue.\n",
      "If you want to make sure you're using a tested and supported configuration, either change the TensorFlow version or the TensorFlow Addons's version. \n",
      "You can find the compatibility matrix in TensorFlow Addon's readme:\n",
      "https://github.com/tensorflow/addons\n",
      "  warnings.warn(\n"
     ]
    }
   ],
   "source": [
    "import tensorflow_addons as tfa\n"
   ]
  },
  {
   "cell_type": "code",
   "execution_count": null,
   "id": "551a0e05",
   "metadata": {},
   "outputs": [],
   "source": []
  },
  {
   "cell_type": "code",
   "execution_count": 4,
   "id": "25b81e89",
   "metadata": {},
   "outputs": [
    {
     "name": "stderr",
     "output_type": "stream",
     "text": [
      "/Users/divamgupta/miniforge3/lib/python3.9/site-packages/torchvision/io/image.py:13: UserWarning: Failed to load image Python extension: dlopen(/Users/divamgupta/miniforge3/lib/python3.9/site-packages/torchvision/image.so, 0x0006): Symbol not found: (__ZN2at4_ops19empty_memory_format4callEN3c108ArrayRefIxEENS2_8optionalINS2_10ScalarTypeEEENS5_INS2_6LayoutEEENS5_INS2_6DeviceEEENS5_IbEENS5_INS2_12MemoryFormatEEE)\n",
      "  Referenced from: '/Users/divamgupta/miniforge3/lib/python3.9/site-packages/torchvision/image.so'\n",
      "  Expected in: '/Users/divamgupta/miniforge3/lib/python3.9/site-packages/torch/lib/libtorch_cpu.dylib'\n",
      "  warn(f\"Failed to load image Python extension: {e}\")\n"
     ]
    }
   ],
   "source": [
    "FILENAME = \"/Users/divamgupta/Downloads/sd-v1-4.ckpt\"\n",
    "weights = torch.load(FILENAME)"
   ]
  },
  {
   "cell_type": "code",
   "execution_count": null,
   "id": "42975c33",
   "metadata": {},
   "outputs": [],
   "source": []
  },
  {
   "cell_type": "code",
   "execution_count": null,
   "id": "2fdcfe62",
   "metadata": {},
   "outputs": [],
   "source": []
  },
  {
   "cell_type": "code",
   "execution_count": null,
   "id": "5ac477b8",
   "metadata": {},
   "outputs": [],
   "source": []
  },
  {
   "cell_type": "code",
   "execution_count": 5,
   "id": "72f92611",
   "metadata": {},
   "outputs": [],
   "source": [
    "def quick_gelu(x):\n",
    "    return x * tf.sigmoid(x * 1.702) \n"
   ]
  },
  {
   "cell_type": "code",
   "execution_count": 6,
   "id": "ce7eb2b1",
   "metadata": {},
   "outputs": [],
   "source": [
    " \n",
    "class CLIPAttention(tf.keras.layers.Layer):\n",
    "    def __init__(self, tname):\n",
    "        super(CLIPAttention, self).__init__()\n",
    "        self.embed_dim = 768\n",
    "        self.num_heads = 12\n",
    "        self.head_dim = self.embed_dim // self.num_heads\n",
    "        self.scale = self.head_dim**-0.5\n",
    "        self.k_proj = tf.keras.layers.Dense(self.embed_dim  , activation=None , weights=[weights['state_dict'][tname+\".k_proj.weight\"].T  , weights['state_dict'][tname+\".k_proj.bias\"]] )\n",
    "        self.v_proj = tf.keras.layers.Dense(self.embed_dim , activation=None  , weights=[weights['state_dict'][tname+\".v_proj.weight\"].T  , weights['state_dict'][tname+\".v_proj.bias\"]])\n",
    "        self.q_proj = tf.keras.layers.Dense(self.embed_dim , activation=None  , weights=[weights['state_dict'][tname+\".q_proj.weight\"].T  , weights['state_dict'][tname+\".q_proj.bias\"]])\n",
    "        self.out_proj = tf.keras.layers.Dense(self.embed_dim , activation=None  , weights=[weights['state_dict'][tname+\".out_proj.weight\"].T  , weights['state_dict'][tname+\".out_proj.bias\"]])\n",
    "\n",
    "    def _shape(self, tensor, seq_len: int, bsz: int):\n",
    "        a = tf.reshape(tensor , (bsz, seq_len, self.num_heads, self.head_dim))\n",
    "        return tf.keras.layers.Permute( (2,1,3) )(a) # bs , n_head , seq_len , head_dim\n",
    "    \n",
    "    def call(self, inputs ):\n",
    "        [hidden_states, causal_attention_mask] = inputs\n",
    "        bsz, tgt_len, embed_dim = hidden_states.shape\n",
    "        query_states = self.q_proj(hidden_states) * self.scale\n",
    "        key_states = self._shape(self.k_proj(hidden_states), tgt_len, -1)\n",
    "        value_states = self._shape(self.v_proj(hidden_states), tgt_len, -1)\n",
    "        \n",
    "        proj_shape = (-1 , tgt_len, self.head_dim)\n",
    "        query_states = self._shape(query_states, tgt_len, -1)\n",
    "        query_states = tf.reshape(query_states , proj_shape)\n",
    "        key_states = tf.reshape(key_states , proj_shape)\n",
    "                \n",
    "        src_len = tgt_len\n",
    "        value_states = tf.reshape(value_states , proj_shape)\n",
    "        attn_weights = query_states @ tf.keras.layers.Permute((2,1))(key_states) \n",
    "        \n",
    "        attn_weights = tf.reshape(attn_weights , (-1, self.num_heads, tgt_len, src_len))\n",
    "        attn_weights = attn_weights + causal_attention_mask\n",
    "        attn_weights = tf.reshape(attn_weights , (-1, tgt_len, src_len))\n",
    "        \n",
    "        attn_weights = tf.nn.softmax(attn_weights)\n",
    "        attn_output = attn_weights @ value_states\n",
    "        \n",
    "        attn_output = tf.reshape(attn_output , (-1, self.num_heads, tgt_len, self.head_dim))\n",
    "        attn_output = tf.keras.layers.Permute((2,1,3))(attn_output)\n",
    "        attn_output = tf.reshape(attn_output , (-1, tgt_len, embed_dim))\n",
    "\n",
    "        attn_output = self.out_proj(attn_output)\n",
    "        return attn_output\n"
   ]
  },
  {
   "cell_type": "code",
   "execution_count": 7,
   "id": "82bec30f",
   "metadata": {},
   "outputs": [],
   "source": [
    "\n",
    "\n",
    "class CLIPMLP(tf.keras.layers.Layer):\n",
    "    def __init__(self, tname):\n",
    "        super(CLIPMLP, self).__init__()\n",
    "        self.fc1 = tf.keras.layers.Dense( 3072, weights=[weights['state_dict'][tname+\".fc1.weight\"].T  , weights['state_dict'][tname+\".fc1.bias\"]])\n",
    "        self.fc2 = tf.keras.layers.Dense(  768, weights=[weights['state_dict'][tname+\".fc2.weight\"].T  , weights['state_dict'][tname+\".fc2.bias\"]])\n",
    "\n",
    "    def __call__(self, hidden_states):\n",
    "        hidden_states = self.fc1(hidden_states)\n",
    "        hidden_states = quick_gelu(hidden_states )\n",
    "        hidden_states = self.fc2(hidden_states)\n",
    "        return hidden_states\n"
   ]
  },
  {
   "cell_type": "code",
   "execution_count": 8,
   "id": "99437cb8",
   "metadata": {},
   "outputs": [],
   "source": [
    "class CLIPEncoderLayer(tf.keras.layers.Layer):\n",
    "    def __init__(self, tname):\n",
    "        super(CLIPEncoderLayer, self).__init__()\n",
    "        self.self_attn = CLIPAttention(tname+\".self_attn\")\n",
    "        self.layer_norm1 = tf.keras.layers.LayerNormalization( epsilon=1e-5 , weights=[ weights['state_dict'][tname+\".layer_norm1.weight\"] , weights['state_dict'][tname+\".layer_norm1.bias\"] ])\n",
    "        self.mlp = CLIPMLP(tname+\".mlp\")\n",
    "        self.layer_norm2 = tf.keras.layers.LayerNormalization( epsilon=1e-5 , weights=[ weights['state_dict'][tname+\".layer_norm2.weight\"] , weights['state_dict'][tname+\".layer_norm2.bias\"] ])\n",
    "\n",
    "    def __call__(self, inputs):\n",
    "        [hidden_states, causal_attention_mask] = inputs\n",
    "        residual = hidden_states\n",
    "    \n",
    "        hidden_states = self.layer_norm1(hidden_states)\n",
    "        hidden_states = self.self_attn([hidden_states, causal_attention_mask])\n",
    "        hidden_states = residual + hidden_states\n",
    "        \n",
    "        \n",
    "\n",
    "        residual = hidden_states\n",
    "        hidden_states = self.layer_norm2(hidden_states)\n",
    "        hidden_states = self.mlp(hidden_states)\n",
    "        \n",
    "        hidden_states = residual + hidden_states\n",
    "        \n",
    "        \n",
    "\n",
    "        return hidden_states\n"
   ]
  },
  {
   "cell_type": "code",
   "execution_count": 9,
   "id": "ad2012e3",
   "metadata": {},
   "outputs": [],
   "source": [
    "class CLIPEncoder(tf.keras.layers.Layer):\n",
    "    def __init__(self, tname):\n",
    "        super(CLIPEncoder, self).__init__()\n",
    "        self.layers = [CLIPEncoderLayer(tname + \".layers.%d\"%i) for i in range(12)]\n",
    "  \n",
    "    def __call__(self, inputs):\n",
    "        [hidden_states, causal_attention_mask] = inputs\n",
    "        for i,l in enumerate(self.layers):\n",
    "            hidden_states = l([hidden_states, causal_attention_mask])\n",
    "        return hidden_states\n"
   ]
  },
  {
   "cell_type": "code",
   "execution_count": 10,
   "id": "49911587",
   "metadata": {},
   "outputs": [],
   "source": [
    "class CLIPTextEmbeddings(tf.keras.layers.Layer):\n",
    "    def __init__(self, tname , n_words=77):\n",
    "        super(CLIPTextEmbeddings, self).__init__()\n",
    "        \n",
    "        token_emb_W = weights['state_dict'][tname + '.token_embedding.weight']\n",
    "\n",
    "\n",
    "        self.token_embedding_layer = tf.keras.layers.Embedding( 49408, 768 , name=\"token_embedding\" , weights=[token_emb_W])\n",
    "\n",
    "        pos_emb_W = weights['state_dict'][tname + '.position_embedding.weight']\n",
    "\n",
    "\n",
    "        self.position_embedding_layer = tf.keras.layers.Embedding( n_words, 768, name=\"position_embedding\", weights=[pos_emb_W])\n",
    "\n",
    "\n",
    "    def __call__(self, inputs):\n",
    "        [input_ids, position_ids] = inputs\n",
    "        word_embeddings = self.token_embedding_layer(input_ids)\n",
    "        position_embeddings = self.position_embedding_layer(position_ids)\n",
    "        return  word_embeddings + position_embeddings\n",
    "          "
   ]
  },
  {
   "cell_type": "code",
   "execution_count": 11,
   "id": "22bc7cf1",
   "metadata": {},
   "outputs": [],
   "source": [
    "class CLIPTextTransformer(tf.keras.models.Model):\n",
    "    def __init__(self, tname , n_words=77):\n",
    "        super(CLIPTextTransformer, self).__init__()\n",
    "        self.embeddings = CLIPTextEmbeddings(tname+\".embeddings\" , n_words=n_words)\n",
    "        self.encoder = CLIPEncoder(tname + \".encoder\")\n",
    "        self.final_layer_norm = tf.keras.layers.LayerNormalization( epsilon=1e-5 , weights=[ weights['state_dict'][tname+\".final_layer_norm.weight\"] , weights['state_dict'][tname+\".final_layer_norm.bias\"] ])\n",
    "    \n",
    "        self.causal_attention_mask = tf.constant(np.triu(np.ones((1,1,77,77), dtype=np.float32) * -np.inf, k=1))\n",
    "        \n",
    "    def __call__(self, inputs , training=False):\n",
    "        [input_ids,  inp_position_ids ] = inputs\n",
    "        x = self.embeddings([input_ids,  inp_position_ids ])\n",
    "        x = self.encoder([x, self.causal_attention_mask] )\n",
    "        return self.final_layer_norm(x)\n"
   ]
  },
  {
   "cell_type": "code",
   "execution_count": null,
   "id": "ffe09a0a",
   "metadata": {},
   "outputs": [],
   "source": []
  },
  {
   "cell_type": "code",
   "execution_count": 12,
   "id": "5fad6082",
   "metadata": {},
   "outputs": [],
   "source": [
    "def get_conv2d(tname , in_channels, out_channels, kernel_size ,padding=0 ,stride=1):\n",
    "    \n",
    "    W =  weights['state_dict'][tname + '.weight'].numpy()\n",
    "    W = np.transpose(W , (2,3,1,0))\n",
    "    assert in_channels == W.shape[-2]\n",
    "    assert out_channels == W.shape[-1]\n",
    "    b =  weights['state_dict'][tname + '.bias']\n",
    "    \n",
    "    if type(padding) is int:\n",
    "        padding = (padding,padding)\n",
    "    \n",
    "    r =  tf.keras.models.Sequential([\n",
    "        \n",
    "        tf.keras.layers.ZeroPadding2D(\n",
    "            padding=padding, data_format=None \n",
    "        ) , \n",
    "        \n",
    "        \n",
    "        tf.keras.layers.Conv2D(\n",
    "            out_channels,\n",
    "            kernel_size,\n",
    "            strides=(stride, stride ) , weights=[W,b] ) \n",
    "    ])\n",
    "    r.tname = tname\n",
    "    return r\n",
    "    \n",
    "\n",
    "    "
   ]
  },
  {
   "cell_type": "code",
   "execution_count": null,
   "id": "b3763792",
   "metadata": {},
   "outputs": [],
   "source": []
  },
  {
   "cell_type": "code",
   "execution_count": 13,
   "id": "2e52b28f",
   "metadata": {},
   "outputs": [],
   "source": [
    "def apply_seq(x , layers):\n",
    "    for l in layers:\n",
    "        x = l(x)\n",
    "    return x"
   ]
  },
  {
   "cell_type": "code",
   "execution_count": 14,
   "id": "af24d9fc",
   "metadata": {},
   "outputs": [],
   "source": [
    "# not to be confused with ResnetBlock\n",
    "class ResBlock(tf.keras.layers.Layer):\n",
    "  def __init__(self, tname, channels, emb_channels, out_channels):\n",
    "    super(ResBlock, self).__init__()\n",
    "    self.in_layers = [\n",
    "      tfa.layers.GroupNormalization(epsilon=1e-5 , weights=[\n",
    "        weights['state_dict'][tname+\".in_layers.0.weight\"],\n",
    "        weights['state_dict'][tname+\".in_layers.0.bias\"]\n",
    "      ]),\n",
    "      tf.keras.activations.swish,\n",
    "      get_conv2d(tname+\".in_layers.2\" , channels, out_channels, 3, padding=1)\n",
    "    ]\n",
    "    self.emb_layers = [\n",
    "      tf.keras.activations.swish,\n",
    "      tf.keras.layers.Dense( out_channels, weights=[weights['state_dict'][tname+\".emb_layers.1.weight\"].T  , weights['state_dict'][tname+\".emb_layers.1.bias\"]])\n",
    "    ]\n",
    "    self.out_layers = [\n",
    "      tfa.layers.GroupNormalization(epsilon=1e-5 , weights=[\n",
    "        weights['state_dict'][tname+\".out_layers.0.weight\"],\n",
    "        weights['state_dict'][tname+\".out_layers.0.bias\"]\n",
    "      ]),\n",
    "      tf.keras.activations.swish,\n",
    "      lambda x: x,\n",
    "      get_conv2d(tname+\".out_layers.3\" ,out_channels, out_channels, 3, padding=1)\n",
    "    ]\n",
    "    self.skip_connection = get_conv2d(tname+\".skip_connection\" , channels, out_channels, 1) if channels != out_channels else lambda x: x\n",
    "\n",
    "  def __call__(self,inputs ):\n",
    "    x, emb = inputs\n",
    "    h = apply_seq(x , self.in_layers)\n",
    "    emb_out = apply_seq(emb, self.emb_layers)\n",
    "    h = h + emb_out[:, None , None]\n",
    "    h = apply_seq(h , self.out_layers)\n",
    "    ret = self.skip_connection(x) + h\n",
    "    return ret"
   ]
  },
  {
   "cell_type": "code",
   "execution_count": 15,
   "id": "7f64480d",
   "metadata": {},
   "outputs": [],
   "source": [
    "\n",
    "def timestep_embedding(timesteps, dim, max_period=10000):\n",
    "    half = dim // 2\n",
    "    freqs = np.exp(-math.log(max_period) * np.arange(0, half, dtype=np.float32) / half)\n",
    "    args = timesteps.numpy() * freqs\n",
    "    embedding = np.concatenate([np.cos(args), np.sin(args)])\n",
    "    return Tensor(embedding).reshape(1, -1)\n"
   ]
  },
  {
   "cell_type": "code",
   "execution_count": 16,
   "id": "7ed9c0f9",
   "metadata": {},
   "outputs": [],
   "source": [
    "def td_dot(a , b ):\n",
    "    assert len(a.shape) == 4\n",
    "    assert len(a.shape) == 4\n",
    "    assert a.shape[0] == b.shape[0]\n",
    "    assert b.shape[1] == a.shape[1]\n",
    "    aa = tf.reshape(a , (-1 , a.shape[2] , a.shape[3]))\n",
    "    bb = tf.reshape(b , (-1 , b.shape[2] , b.shape[3]))\n",
    "    cc = tf.keras.backend.batch_dot(aa , bb )\n",
    "    c = tf.reshape(cc , (-1 , a.shape[1] , cc.shape[1] , cc.shape[2]))\n",
    "    return c "
   ]
  },
  {
   "cell_type": "code",
   "execution_count": 17,
   "id": "22d9ffe2",
   "metadata": {},
   "outputs": [],
   "source": [
    "class CrossAttention(tf.keras.layers.Layer):\n",
    "  def __init__(self, tname, query_dim, context_dim, n_heads, d_head):\n",
    "    super(CrossAttention, self).__init__()\n",
    "    self.to_q = tf.keras.layers.Dense( n_heads*d_head,use_bias=False ,weights=[weights['state_dict'][tname+\".to_q.weight\"].T  ])\n",
    "    self.to_k = tf.keras.layers.Dense( n_heads*d_head,use_bias=False ,weights=[weights['state_dict'][tname+\".to_k.weight\"].T  ])\n",
    "    self.to_v = tf.keras.layers.Dense( n_heads*d_head,use_bias=False ,weights=[weights['state_dict'][tname+\".to_v.weight\"].T  ])\n",
    "    self.scale = d_head ** -0.5\n",
    "    self.num_heads = n_heads\n",
    "    self.head_size = d_head\n",
    "    self.to_out = [tf.keras.layers.Dense( n_heads*d_head ,weights=[weights['state_dict'][tname+\".to_out.0.weight\"].T , weights['state_dict'][tname+\".to_out.0.bias\"] ])]\n",
    "\n",
    "  def __call__(self, inputs):\n",
    "    assert type(inputs) is list\n",
    "    if len(inputs) == 1:\n",
    "        inputs = inputs + [None]\n",
    "    [x , context] = inputs\n",
    "    context = x if context is None else context\n",
    "    q,k,v = self.to_q(x), self.to_k(context), self.to_v(context)\n",
    "    assert len(x.shape) == 3\n",
    "    q = tf.reshape(q , ( -1 , x.shape[1], self.num_heads, self.head_size) )\n",
    "    k = tf.reshape(k , ( -1 , context.shape[1] , self.num_heads, self.head_size) )\n",
    "    v = tf.reshape(v, ( -1 , context.shape[1] , self.num_heads, self.head_size) )\n",
    "    \n",
    "    q = tf.keras.layers.Permute((2,1,3))(q)  # (bs, num_heads, time, head_size)\n",
    "    k = tf.keras.layers.Permute((2,3,1))(k)  # (bs, num_heads, head_size, time)\n",
    "    v = tf.keras.layers.Permute((2,1,3))(v)# (bs, num_heads, time, head_size)\n",
    "    \n",
    "    score = td_dot(q,k) * self.scale\n",
    "    weights = tf.keras.activations.softmax(score)                   # (bs, num_heads, time, time)\n",
    "    attention = td_dot(weights,v)  \n",
    "    attention = tf.keras.layers.Permute((2,1,3))(attention) # (bs, time, num_heads, head_size)\n",
    "\n",
    "    h_ = tf.reshape(attention, (-1 ,x.shape[1] , self.num_heads * self.head_size))\n",
    "    return apply_seq(h_ , self.to_out)\n"
   ]
  },
  {
   "cell_type": "code",
   "execution_count": 18,
   "id": "e29258b8",
   "metadata": {},
   "outputs": [],
   "source": [
    "\n",
    "def gelu(self):\n",
    "    return 0.5 * self * (1 + tf.keras.activations.tanh(self * 0.7978845608 * (1 + 0.044715 * self * self)))\n"
   ]
  },
  {
   "cell_type": "code",
   "execution_count": 19,
   "id": "93f9beb0",
   "metadata": {},
   "outputs": [],
   "source": [
    "class GEGLU(tf.keras.layers.Layer):\n",
    "  def __init__(self, tname, dim_in, dim_out):\n",
    "    super(GEGLU, self).__init__()\n",
    "    \n",
    "    self.proj = tf.keras.layers.Dense( dim_out * 2 ,weights=[weights['state_dict'][tname+\".proj.weight\"].T , weights['state_dict'][tname+\".proj.bias\"] ])\n",
    "    self.dim_out = dim_out\n",
    "\n",
    "  def __call__(self, x):\n",
    "    xp = self.proj(x)\n",
    "    x, gate = xp[... , :self.dim_out ] , xp[..., self.dim_out:]\n",
    "    ans = x * gelu(gate)\n",
    "    \n",
    "    return ans\n"
   ]
  },
  {
   "cell_type": "code",
   "execution_count": 20,
   "id": "53c692a3",
   "metadata": {},
   "outputs": [],
   "source": [
    "class FeedForward(tf.keras.layers.Layer):\n",
    "  def __init__(self, tname , dim, mult=4):\n",
    "    super(FeedForward, self).__init__()\n",
    "    self.net = [\n",
    "      GEGLU(tname + \".net.0\" , dim, dim*mult),\n",
    "      lambda x: x,\n",
    "      tf.keras.layers.Dense( dim ,weights=[weights['state_dict'][tname+\".net.2.weight\"].T , weights['state_dict'][tname+\".net.2.bias\"] ])\n",
    "    ]\n",
    "\n",
    "  def __call__(self, x):\n",
    "    return apply_seq(x, self.net)"
   ]
  },
  {
   "cell_type": "code",
   "execution_count": 21,
   "id": "13237bd7",
   "metadata": {},
   "outputs": [],
   "source": [
    "class BasicTransformerBlock(tf.keras.layers.Layer):\n",
    "  def __init__(self, tname, dim, context_dim, n_heads, d_head):\n",
    "    super(BasicTransformerBlock, self).__init__()\n",
    "    self.attn1 = CrossAttention(tname+\".attn1\" , dim, dim, n_heads, d_head)\n",
    "    self.ff = FeedForward(tname+\".ff\" ,  dim)\n",
    "    self.attn2 = CrossAttention(tname+\".attn2\" ,dim, context_dim, n_heads, d_head)\n",
    "    self.norm1 = tf.keras.layers.LayerNormalization( epsilon=1e-5 , weights=[ weights['state_dict'][tname+\".norm1.weight\"] , weights['state_dict'][tname+\".norm1.bias\"] ])\n",
    "    self.norm2 = tf.keras.layers.LayerNormalization( epsilon=1e-5 , weights=[ weights['state_dict'][tname+\".norm2.weight\"] , weights['state_dict'][tname+\".norm2.bias\"] ])\n",
    "    self.norm3 = tf.keras.layers.LayerNormalization( epsilon=1e-5 , weights=[ weights['state_dict'][tname+\".norm3.weight\"] , weights['state_dict'][tname+\".norm3.bias\"] ])\n",
    "\n",
    "  def __call__(self, inputs):\n",
    "    [x, context] = inputs\n",
    "    \n",
    "    x = self.attn1([self.norm1(x)]) + x\n",
    "    x = self.attn2([self.norm2(x), context]) + x\n",
    "    x = self.ff(self.norm3(x)) + x\n",
    "    return x"
   ]
  },
  {
   "cell_type": "code",
   "execution_count": null,
   "id": "952d4e05",
   "metadata": {},
   "outputs": [],
   "source": []
  },
  {
   "cell_type": "code",
   "execution_count": 22,
   "id": "5b2cebc5",
   "metadata": {},
   "outputs": [],
   "source": [
    "class SpatialTransformer(tf.keras.layers.Layer):\n",
    "  def __init__(self, tname , channels, context_dim, n_heads, d_head):\n",
    "    super(SpatialTransformer, self).__init__()\n",
    "    self.norm = tfa.layers.GroupNormalization(epsilon=1e-5 , weights=[\n",
    "        weights['state_dict'][tname+\".norm.weight\"],\n",
    "        weights['state_dict'][tname+\".norm.bias\"]\n",
    "      ])\n",
    "    \n",
    "    assert channels == n_heads * d_head\n",
    "    self.proj_in = get_conv2d(tname+\".proj_in\", channels, n_heads * d_head, 1)\n",
    "    self.transformer_blocks = [BasicTransformerBlock(tname + \".transformer_blocks.0\",  channels, context_dim, n_heads, d_head)]\n",
    "    self.proj_out = get_conv2d(tname+\".proj_out\" , n_heads * d_head, channels, 1)\n",
    "\n",
    "  def __call__(self, inputs):\n",
    "    [x , context] = inputs\n",
    "    b, h, w , c  = x.shape\n",
    "    x_in = x\n",
    "    x = self.norm(x)\n",
    "    x = self.proj_in(x)\n",
    "    x = tf.reshape(x , (-1,   h*w , c) ) \n",
    "    for block in self.transformer_blocks:\n",
    "      x = block([x, context])\n",
    "    x = tf.reshape(x , (-1 , h, w , c) )\n",
    "    ret = self.proj_out(x) + x_in\n",
    "    return ret"
   ]
  },
  {
   "cell_type": "code",
   "execution_count": 23,
   "id": "fd5beb4a",
   "metadata": {},
   "outputs": [],
   "source": [
    "class Downsample(tf.keras.layers.Layer):\n",
    "  def __init__(self, tname , channels):\n",
    "    self.tname = tname\n",
    "    super(Downsample, self).__init__()\n",
    "    self.op = get_conv2d(tname + \".op\" , channels, channels, 3, stride=2, padding=1)\n",
    "\n",
    "  def __call__(self, x):\n",
    "    return self.op(x)\n"
   ]
  },
  {
   "cell_type": "code",
   "execution_count": 24,
   "id": "d7f08083",
   "metadata": {},
   "outputs": [],
   "source": [
    "class Upsample(tf.keras.layers.Layer):\n",
    "  def __init__(self, tname , channels):\n",
    "    self.tname = tname\n",
    "    super(Upsample, self).__init__()\n",
    "    self.conv = get_conv2d(tname + \".conv\" ,channels, channels, 3, padding=1)\n",
    "    self.ups = tf.keras.layers.UpSampling2D(size=(2, 2))\n",
    "\n",
    "  def __call__(self, x):\n",
    "    x = self.ups(x)\n",
    "    return self.conv(x)\n"
   ]
  },
  {
   "cell_type": "code",
   "execution_count": null,
   "id": "326a59d6",
   "metadata": {},
   "outputs": [],
   "source": []
  },
  {
   "cell_type": "code",
   "execution_count": 25,
   "id": "a8717414",
   "metadata": {},
   "outputs": [],
   "source": [
    "class UNetModel(tf.keras.models.Model):\n",
    "  def __init__(self, tname):\n",
    "    super(UNetModel, self).__init__()\n",
    "    self.time_embed = [\n",
    "       tf.keras.layers.Dense( 1280, weights=[weights['state_dict'][tname+\".time_embed.0.weight\"].T  , weights['state_dict'][tname+\".time_embed.0.bias\"]]),\n",
    "       tf.keras.activations.swish,\n",
    "       tf.keras.layers.Dense( 1280, weights=[weights['state_dict'][tname+\".time_embed.2.weight\"].T  , weights['state_dict'][tname+\".time_embed.2.bias\"]]),\n",
    "     ]\n",
    "\n",
    "    self.input_blocks = [\n",
    "      [get_conv2d( tname+\".input_blocks.0.0\",  4, 320, kernel_size=3, padding=1)],\n",
    "      [ResBlock(tname+\".input_blocks.1.0\", 320, 1280, 320) ,   SpatialTransformer(tname+\".input_blocks.1.1\" , 320, 768, 8, 40)],\n",
    "      [ResBlock(tname+\".input_blocks.2.0\" , 320, 1280, 320), SpatialTransformer(tname+\".input_blocks.2.1\" ,320, 768, 8, 40)],\n",
    "      [Downsample(tname+\".input_blocks.3.0\" ,320)],\n",
    "      [ResBlock(tname+\".input_blocks.4.0\",320, 1280, 640), SpatialTransformer(tname+\".input_blocks.4.1\" ,640, 768, 8, 80)],\n",
    "      [ResBlock(tname+\".input_blocks.5.0\",640, 1280, 640), SpatialTransformer(tname+\".input_blocks.5.1\",640, 768, 8, 80)],\n",
    "      [Downsample(tname+\".input_blocks.6.0\",640)],\n",
    "      [ResBlock(tname+\".input_blocks.7.0\",640, 1280, 1280), SpatialTransformer(tname+\".input_blocks.7.1\",1280, 768, 8, 160)],\n",
    "      [ResBlock(tname+\".input_blocks.8.0\",1280, 1280, 1280), SpatialTransformer(tname+\".input_blocks.8.1\",1280, 768, 8, 160)],\n",
    "      [Downsample(tname+\".input_blocks.9.0\",1280)],\n",
    "      [ResBlock(tname+\".input_blocks.10.0\",1280, 1280, 1280)],\n",
    "      [ResBlock(tname+\".input_blocks.11.0\",1280, 1280, 1280)]\n",
    "    ]\n",
    "    self.middle_block = [\n",
    "      ResBlock(tname+\".middle_block.0\",1280, 1280, 1280),\n",
    "      SpatialTransformer(tname+\".middle_block.1\",1280, 768, 8, 160),\n",
    "      ResBlock(tname+\".middle_block.2\",1280, 1280, 1280)\n",
    "    ]\n",
    "    self.output_blocks = [\n",
    "      [ResBlock(tname+\".output_blocks.0.0\", 2560, 1280, 1280)],\n",
    "      [ResBlock(tname+\".output_blocks.1.0\",2560, 1280, 1280)],\n",
    "      [ResBlock(tname+\".output_blocks.2.0\",2560, 1280, 1280), Upsample(tname+\".output_blocks.2.1\",1280)],\n",
    "      [ResBlock(tname+\".output_blocks.3.0\",2560, 1280, 1280), SpatialTransformer(tname+\".output_blocks.3.1\",1280, 768, 8, 160)],\n",
    "      [ResBlock(tname+\".output_blocks.4.0\",2560, 1280, 1280), SpatialTransformer(tname+\".output_blocks.4.1\",1280, 768, 8, 160)],\n",
    "      [ResBlock(tname+\".output_blocks.5.0\",1920, 1280, 1280), SpatialTransformer(tname+\".output_blocks.5.1\",1280, 768, 8, 160), Upsample(tname+\".output_blocks.5.2\",1280)],\n",
    "      [ResBlock(tname+\".output_blocks.6.0\",1920, 1280, 640), SpatialTransformer(tname+\".output_blocks.6.1\",640, 768, 8, 80)],  # 6\n",
    "      [ResBlock(tname+\".output_blocks.7.0\",1280, 1280, 640), SpatialTransformer(tname+\".output_blocks.7.1\",640, 768, 8, 80)],\n",
    "      [ResBlock(tname+\".output_blocks.8.0\",960, 1280, 640), SpatialTransformer(tname+\".output_blocks.8.1\",640, 768, 8, 80), Upsample(tname+\".output_blocks.8.2\",640)],\n",
    "      [ResBlock(tname+\".output_blocks.9.0\",960, 1280, 320), SpatialTransformer(tname+\".output_blocks.9.1\",320, 768, 8, 40)],\n",
    "      [ResBlock(tname+\".output_blocks.10.0\",640, 1280, 320), SpatialTransformer(tname+\".output_blocks.10.1\",320, 768, 8, 40)],\n",
    "      [ResBlock(tname+\".output_blocks.11.0\",640, 1280, 320), SpatialTransformer(tname+\".output_blocks.11.1\",320, 768, 8, 40)],\n",
    "    ]\n",
    "    self.out = [\n",
    "      tfa.layers.GroupNormalization(epsilon=1e-5 , weights=[\n",
    "        weights['state_dict'][tname+\".out.0.weight\"],\n",
    "        weights['state_dict'][tname+\".out.0.bias\"]\n",
    "      ]),\n",
    "        \n",
    "      tf.keras.activations.swish,\n",
    "      get_conv2d(tname+\".out.2\", 320, 4, kernel_size=3, padding=1)\n",
    "    ]\n",
    "\n",
    "  def __call__(self, inputs, training=False):\n",
    "    # TODO: real time embedding\n",
    "    [x,t_emb,context] = inputs\n",
    "    emb = apply_seq(t_emb, self.time_embed)\n",
    "\n",
    "    def run(x, bb):\n",
    "      if isinstance(bb, ResBlock): x = bb([x, emb])\n",
    "      elif isinstance(bb, SpatialTransformer): x = bb([x, context])\n",
    "      else: x = bb(x)\n",
    "      return x\n",
    "\n",
    "    saved_inputs = []\n",
    "    for i,b in enumerate(self.input_blocks):\n",
    "      for bb in b:\n",
    "        inppp = x\n",
    "        x = run(x, bb)\n",
    "      saved_inputs.append(x)\n",
    "    \n",
    "    for bb in self.middle_block:\n",
    "      x = run(x, bb)\n",
    "\n",
    "    for i,b in enumerate(self.output_blocks):\n",
    "      x = tf.concat([x , saved_inputs.pop()] , axis=-1) \n",
    "      for bb in b:\n",
    "        x = run(x, bb)\n",
    "    return apply_seq(x , self.out)\n",
    "\n"
   ]
  },
  {
   "cell_type": "code",
   "execution_count": null,
   "id": "246be575",
   "metadata": {},
   "outputs": [],
   "source": []
  },
  {
   "cell_type": "code",
   "execution_count": null,
   "id": "03ab5680",
   "metadata": {},
   "outputs": [],
   "source": []
  },
  {
   "cell_type": "code",
   "execution_count": 59,
   "id": "7c2bb55f",
   "metadata": {},
   "outputs": [],
   "source": [
    "class AttnBlock(tf.keras.layers.Layer):\n",
    "  def __init__(self, tname , in_channels):\n",
    "    super(AttnBlock, self).__init__()\n",
    "    self.tname = tname\n",
    "    self.norm = tfa.layers.GroupNormalization(epsilon=1e-5 , weights=[\n",
    "        weights['state_dict'][tname+\".norm.weight\"],\n",
    "        weights['state_dict'][tname+\".norm.bias\"]\n",
    "      ])\n",
    "    self.q = PaddedConv2D(tname+\".q\" , in_channels, 1)\n",
    "    self.k = PaddedConv2D(tname+\".k\"  , in_channels, 1)\n",
    "    self.v = PaddedConv2D(tname+\".v\"  , in_channels, 1)\n",
    "    self.proj_out = PaddedConv2D(tname+\".proj_out\"  , in_channels, 1)\n",
    "\n",
    "  # copied from AttnBlock in ldm repo\n",
    "  def call(self, x):\n",
    "    h_ = self.norm(x)\n",
    "    q,k,v = self.q(h_), self.k(h_), self.v(h_)\n",
    "\n",
    "    # compute attention\n",
    "    b, h,w, c = q.shape\n",
    "    q = tf.reshape(q , (-1 ,h*w , c ))# b,hw,c\n",
    "    k = tf.keras.layers.Permute((3,1,2))(k)\n",
    "    k = tf.reshape(k , (-1,c,h*w)) # b,c,hw\n",
    "    w_ = q @ k\n",
    "    w_ = w_ * (c**(-0.5))\n",
    "    w_ = tf.keras.activations.softmax (w_)\n",
    "    \n",
    "\n",
    "\n",
    "    # attend to values\n",
    "    v = tf.keras.layers.Permute((3,1,2))(v)\n",
    "    v = tf.reshape(v , (-1,c,h*w))\n",
    "    w_ = tf.keras.layers.Permute((2,1))( w_)\n",
    "    h_ = v @ w_\n",
    "    h_ = tf.keras.layers.Permute((2,1))(h_)\n",
    "    h_ = tf.reshape(h_, (-1,h,w,c))\n",
    "    return x + self.proj_out(h_)"
   ]
  },
  {
   "cell_type": "code",
   "execution_count": 60,
   "id": "b9a4b791",
   "metadata": {},
   "outputs": [],
   "source": [
    "class ResnetBlock(tf.keras.layers.Layer):\n",
    "  def __init__(self, tname ,  in_channels, out_channels=None):\n",
    "    super(ResnetBlock, self).__init__()\n",
    "    self.tname = tname\n",
    "    self.norm1 = tfa.layers.GroupNormalization(epsilon=1e-5 , weights=[\n",
    "        weights['state_dict'][tname+\".norm1.weight\"],\n",
    "        weights['state_dict'][tname+\".norm1.bias\"]\n",
    "      ])\n",
    "    self.conv1 = PaddedConv2D(tname+\".conv1\",  out_channels, 3, padding=1)\n",
    "    self.norm2 = tfa.layers.GroupNormalization(epsilon=1e-5 , weights=[\n",
    "        weights['state_dict'][tname+\".norm2.weight\"],\n",
    "        weights['state_dict'][tname+\".norm2.bias\"]\n",
    "      ])\n",
    "    self.conv2 = PaddedConv2D(tname+\".conv2\",  out_channels, 3, padding=1)\n",
    "    self.nin_shortcut = PaddedConv2D(tname+\".nin_shortcut\" , out_channels, 1) if in_channels != out_channels else lambda x: x\n",
    "\n",
    "  def call(self, x):\n",
    "    h = self.conv1(tf.keras.activations.swish(self.norm1(x)) )\n",
    "    h = self.conv2(tf.keras.activations.swish(self.norm2(h)) )\n",
    "    return self.nin_shortcut(x) + h\n"
   ]
  },
  {
   "cell_type": "code",
   "execution_count": 30,
   "id": "bdd1bf15",
   "metadata": {},
   "outputs": [],
   "source": [
    "class Mid(tf.keras.layers.Layer):\n",
    "  def __init__(self, tname , block_in):\n",
    "    self.tname = tname\n",
    "    super(Mid, self).__init__()\n",
    "    self.block_1 = ResnetBlock(tname+\".block_1\" , block_in, block_in)\n",
    "    self.attn_1 = AttnBlock(tname+\".attn_1\" ,block_in)\n",
    "    self.block_2 = ResnetBlock(tname+\".block_2\" , block_in, block_in)\n",
    "\n",
    "  def __call__(self, x):\n",
    "    return apply_seq(x , [self.block_1, self.attn_1, self.block_2])\n",
    "\n",
    "\n"
   ]
  },
  {
   "cell_type": "code",
   "execution_count": 31,
   "id": "57bc9c63",
   "metadata": {},
   "outputs": [],
   "source": []
  },
  {
   "cell_type": "code",
   "execution_count": null,
   "id": "83c8f393",
   "metadata": {},
   "outputs": [],
   "source": []
  },
  {
   "cell_type": "code",
   "execution_count": 32,
   "id": "95ce33cc",
   "metadata": {},
   "outputs": [],
   "source": [
    "#todo padding of the conv\n",
    "\n",
    "class Encoder_My_style(tf.keras.models.Model):\n",
    "  def __init__(self, tname ):\n",
    "    super(Encoder, self).__init__()\n",
    "    sz = [(128, 128), (128, 256), (256, 512), (512, 512)]\n",
    "    self.conv_in = get_conv2d(tname+\".conv_in\" , 3,128,3, padding=1)\n",
    "\n",
    "    arr = []\n",
    "    for i,s in enumerate(sz):\n",
    "      arr.append({\"block\":\n",
    "        [ResnetBlock(tname + \".down.%d.block.0\"%i ,s[0], s[1]),\n",
    "         ResnetBlock(tname + \".down.%d.block.1\"%i ,s[1], s[1])]})\n",
    "      if i != 3: arr[-1]['downsample'] = {\"conv\": get_conv2d(tname + \".down.%d.downsample.conv\"%i ,s[1], s[1], 3, stride=2, padding=1)}\n",
    "    self.down = arr\n",
    "\n",
    "    self.mid = Mid(tname+\".mid\" ,512)\n",
    "    self.norm_out = tfa.layers.GroupNormalization(epsilon=1e-5 , weights=[\n",
    "        weights['state_dict'][tname+\".norm_out.weight\"],\n",
    "        weights['state_dict'][tname+\".norm_out.bias\"]\n",
    "      ])\n",
    "    self.conv_out = get_conv2d(tname+\".conv_out\" , 512, 8, 3, padding=1)\n",
    "    self.quant_conv = get_conv2d(\"first_stage_model.quant_conv\" , 8, 8, 1)\n",
    "\n",
    "  def __call__(self, x):\n",
    "    x = self.conv_in(x)\n",
    "\n",
    "    for l in self.down:\n",
    "      print(\"encode\", x.shape)\n",
    "      for b in l['block']:\n",
    "            x = b(x)\n",
    "            print(b , b.tname)\n",
    "      if 'downsample' in l:\n",
    "        x = l['downsample']['conv'](x)\n",
    "        print(l['downsample']['conv'] , l['downsample']['conv'].tname)\n",
    "\n",
    "    x = self.mid(x)\n",
    "    \n",
    "    x =  self.conv_out( tf.keras.activations.swish(self.norm_out(x)) )\n",
    "    x = self.quant_conv(x)\n",
    "    mu, s = x[... , :4] , x[... , 4:]\n",
    "    return [mu , s]\n"
   ]
  },
  {
   "cell_type": "code",
   "execution_count": 33,
   "id": "f0eb6534",
   "metadata": {},
   "outputs": [],
   "source": [
    "class PaddedConv2D(tf.keras.layers.Layer):\n",
    "    def __init__(self,tname ,  channels, kernel_size, padding=0, stride=1):\n",
    "            \n",
    "        W =  weights['state_dict'][tname + '.weight'].numpy()\n",
    "        W = np.transpose(W , (2,3,1,0))\n",
    "        b =  weights['state_dict'][tname + '.bias']\n",
    " \n",
    "        \n",
    "        super().__init__()\n",
    "        self.padding2d = tf.keras.layers.ZeroPadding2D((padding, padding))\n",
    "        self.conv2d = tf.keras.layers.Conv2D(\n",
    "            channels, kernel_size, strides=(stride, stride), weights=[W,b]\n",
    "        )\n",
    "\n",
    "    def call(self, x):\n",
    "        x = self.padding2d(x)\n",
    "        return self.conv2d(x)"
   ]
  },
  {
   "cell_type": "code",
   "execution_count": 34,
   "id": "6b95eced",
   "metadata": {},
   "outputs": [],
   "source": [
    "\n",
    "class Encoder(tf.keras.Sequential):\n",
    "    def __init__(self):\n",
    "        super().__init__(\n",
    "            [\n",
    "                PaddedConv2D(\"first_stage_model.encoder.conv_in\" , 128, 3, padding=1 ),\n",
    "                ResnetBlock(\"first_stage_model.encoder.down.0.block.0\" ,128,128),\n",
    "                ResnetBlock( \"first_stage_model.encoder.down.0.block.1\" ,128, 128),\n",
    "                PaddedConv2D(\"first_stage_model.encoder.down.0.downsample.conv\" , 128 , 3 ,  padding=1, stride=2),\n",
    "                \n",
    "                ResnetBlock(\"first_stage_model.encoder.down.1.block.0\" ,128,256),\n",
    "                ResnetBlock( \"first_stage_model.encoder.down.1.block.1\" ,256, 256),\n",
    "                PaddedConv2D(\"first_stage_model.encoder.down.1.downsample.conv\" , 256 , 3 ,  padding=1, stride=2),\n",
    "                \n",
    "                ResnetBlock(\"first_stage_model.encoder.down.2.block.0\" ,256,512),\n",
    "                ResnetBlock( \"first_stage_model.encoder.down.2.block.1\" ,512, 512),\n",
    "                PaddedConv2D(\"first_stage_model.encoder.down.2.downsample.conv\" , 512 , 3 ,  padding=1, stride=2),\n",
    "                \n",
    "                ResnetBlock(\"first_stage_model.encoder.down.3.block.0\" ,512,512),\n",
    "                ResnetBlock( \"first_stage_model.encoder.down.3.block.1\" ,512, 512),\n",
    "                \n",
    "                ResnetBlock(\"first_stage_model.encoder.mid.block_1\" , 512, 512),\n",
    "                AttnBlock(\"first_stage_model.encoder.mid.attn_1\" ,512),\n",
    "                ResnetBlock(\"first_stage_model.encoder.mid.block_2\" , 512, 512),\n",
    "                \n",
    "                tfa.layers.GroupNormalization(epsilon=1e-5 , weights=[\n",
    "                    weights['state_dict'][\"first_stage_model.encoder.norm_out.weight\"],\n",
    "                    weights['state_dict'][\"first_stage_model.encoder.norm_out.bias\"]\n",
    "                  ]) , \n",
    "                tf.keras.layers.Activation(\"swish\"),\n",
    "                PaddedConv2D(\"first_stage_model.encoder.conv_out\" , 8, 3, padding=1 ),\n",
    "                PaddedConv2D(\"first_stage_model.quant_conv\" , 8, 1 ),\n",
    "            ]\n",
    "        )"
   ]
  },
  {
   "cell_type": "code",
   "execution_count": null,
   "id": "823bc442",
   "metadata": {},
   "outputs": [],
   "source": []
  },
  {
   "cell_type": "code",
   "execution_count": null,
   "id": "79960c04",
   "metadata": {},
   "outputs": [],
   "source": [
    "m = Encoder()"
   ]
  },
  {
   "cell_type": "code",
   "execution_count": null,
   "id": "5bec8eb2",
   "metadata": {},
   "outputs": [],
   "source": []
  },
  {
   "cell_type": "code",
   "execution_count": null,
   "id": "f0c51282",
   "metadata": {},
   "outputs": [],
   "source": []
  },
  {
   "cell_type": "code",
   "execution_count": null,
   "id": "ec804c98",
   "metadata": {},
   "outputs": [],
   "source": []
  },
  {
   "cell_type": "code",
   "execution_count": 35,
   "id": "fc3e0855",
   "metadata": {},
   "outputs": [],
   "source": [
    "class Decoder(tf.keras.models.Model):\n",
    "  def __init__(self, tname ):\n",
    "    super(Decoder, self).__init__()\n",
    "    sz = [(128, 256), (256, 512), (512, 512), (512, 512)]\n",
    "    self.conv_in = get_conv2d( tname+\".conv_in\" ,  4,512,3, padding=1)\n",
    "    self.mid = Mid(tname+\".mid\" , 512)\n",
    "    self.upp = tf.keras.layers.UpSampling2D(size=(2, 2))\n",
    "    \n",
    "    self.post_quant_conv = get_conv2d(\"first_stage_model.post_quant_conv\" , 4, 4, 1)\n",
    "\n",
    "    arr = []\n",
    "    for i,s in enumerate(sz):\n",
    "      arr.append({\"block\":\n",
    "        [ResnetBlock( tname + \".up.%d.block.0\"%i , s[1], s[0]),\n",
    "         ResnetBlock( tname + \".up.%d.block.1\"%i , s[0], s[0]),\n",
    "         ResnetBlock( tname + \".up.%d.block.2\"%i , s[0], s[0])]})\n",
    "      if i != 0: arr[-1]['upsample'] = {\"conv\": get_conv2d( tname + \".up.%d.upsample.conv\"%i , s[0], s[0], 3, padding=1)}\n",
    "    self.up = arr\n",
    "\n",
    "    self.norm_out = tfa.layers.GroupNormalization(epsilon=1e-5 , weights=[\n",
    "        weights['state_dict'][tname+\".norm_out.weight\"],\n",
    "        weights['state_dict'][tname+\".norm_out.bias\"]\n",
    "      ])\n",
    "    self.conv_out = get_conv2d(tname+ \".conv_out\" , 128, 3, 3, padding=1)\n",
    "\n",
    "  def __call__(self, x, training=False):\n",
    "    \n",
    "    x = self.post_quant_conv(1/0.18215 * x)\n",
    "\n",
    "    x = self.conv_in(x)\n",
    "    x = self.mid(x)\n",
    "\n",
    "    for l in self.up[::-1]:\n",
    "      for b in l['block']: x = b(x)\n",
    "      if 'upsample' in l:\n",
    "        # https://pytorch.org/docs/stable/generated/torch.nn.functional.interpolate.html ?\n",
    "        bs,c,py,px = x.shape\n",
    "        x = self.upp(x)\n",
    "        x = l['upsample']['conv'](x)\n",
    "\n",
    "    return self.conv_out(tf.keras.activations.swish (self.norm_out(x)) )\n"
   ]
  },
  {
   "cell_type": "code",
   "execution_count": null,
   "id": "7ff9d009",
   "metadata": {},
   "outputs": [],
   "source": []
  },
  {
   "cell_type": "code",
   "execution_count": null,
   "id": "8d39b07e",
   "metadata": {},
   "outputs": [],
   "source": []
  },
  {
   "cell_type": "code",
   "execution_count": null,
   "id": "86808f40",
   "metadata": {},
   "outputs": [],
   "source": []
  },
  {
   "cell_type": "code",
   "execution_count": 36,
   "id": "e5347c6f",
   "metadata": {},
   "outputs": [],
   "source": [
    "# init the model\n"
   ]
  },
  {
   "cell_type": "code",
   "execution_count": 37,
   "id": "d976abba",
   "metadata": {},
   "outputs": [],
   "source": [
    "text_max_len = 77\n",
    "\n",
    "\n",
    "def get_text_enc():\n",
    "    input_word_ids = tf.keras.layers.Input( #intentinally using keas. rather than tf.keras. becasue of some stupid bug in tfhub and pyinstaller \n",
    "            shape=(text_max_len,), dtype=tf.int32)\n",
    "    input_pos_ids = tf.keras.layers.Input( #intentinally using keas. rather than tf.keras. becasue of some stupid bug in tfhub and pyinstaller \n",
    "            shape=(text_max_len,), dtype=tf.int32)\n",
    "    embeds = CLIPTextTransformer('cond_stage_model.transformer.text_model')([input_word_ids, input_pos_ids])\n",
    "    return tf.keras.models.Model([input_word_ids,input_pos_ids] , embeds)\n",
    "\n",
    "def get_unet():\n",
    "    context = tf.keras.layers.Input((text_max_len,768))\n",
    "    t_emb = tf.keras.layers.Input((320,))\n",
    "    latent = tf.keras.layers.Input((64,64,4))\n",
    "    unet = UNetModel(\"model.diffusion_model\")\n",
    "\n",
    "    return tf.keras.models.Model([latent , t_emb, context ] , unet([latent , t_emb, context]))\n",
    "    \n",
    "def get_decoder():\n",
    "    latent = tf.keras.layers.Input((64,64,4))\n",
    "    decoder = Decoder(\"first_stage_model.decoder\")\n",
    "    return tf.keras.models.Model(latent , decoder(latent))\n",
    "    \n",
    "def get_encoder():\n",
    "    img = tf.keras.layers.Input((512,512,3))\n",
    "    encoder = Encoder()\n",
    "    return tf.keras.models.Model(img , encoder(img))\n"
   ]
  },
  {
   "cell_type": "code",
   "execution_count": null,
   "id": "a197189c",
   "metadata": {},
   "outputs": [],
   "source": []
  },
  {
   "cell_type": "code",
   "execution_count": 38,
   "id": "bbccaa7f",
   "metadata": {
    "scrolled": true
   },
   "outputs": [
    {
     "name": "stderr",
     "output_type": "stream",
     "text": [
      "2022-09-30 10:29:16.845965: I tensorflow/core/common_runtime/pluggable_device/pluggable_device_factory.cc:305] Could not identify NUMA node of platform GPU ID 0, defaulting to 0. Your kernel may not have been built with NUMA support.\n",
      "2022-09-30 10:29:16.846408: I tensorflow/core/common_runtime/pluggable_device/pluggable_device_factory.cc:271] Created TensorFlow device (/job:localhost/replica:0/task:0/device:GPU:0 with 0 MB memory) -> physical PluggableDevice (device: 0, name: METAL, pci bus id: <undefined>)\n"
     ]
    },
    {
     "name": "stdout",
     "output_type": "stream",
     "text": [
      "Metal device set to: Apple M1\n"
     ]
    }
   ],
   "source": [
    "text_encoder = get_text_enc()\n",
    "unet = get_unet()\n",
    "decoder = get_decoder()\n",
    "encoder = get_encoder()"
   ]
  },
  {
   "cell_type": "code",
   "execution_count": 61,
   "id": "406286b4",
   "metadata": {},
   "outputs": [],
   "source": [
    "encoder = get_encoder()"
   ]
  },
  {
   "cell_type": "code",
   "execution_count": 62,
   "id": "6d243c12",
   "metadata": {},
   "outputs": [
    {
     "name": "stdout",
     "output_type": "stream",
     "text": [
      "Model: \"model_4\"\n",
      "_________________________________________________________________\n",
      "Layer (type)                 Output Shape              Param #   \n",
      "=================================================================\n",
      "input_8 (InputLayer)         [(None, 512, 512, 3)]     0         \n",
      "_________________________________________________________________\n",
      "encoder_1 (Encoder)          (None, 64, 64, 8)         34163664  \n",
      "=================================================================\n",
      "Total params: 34,163,664\n",
      "Trainable params: 34,163,664\n",
      "Non-trainable params: 0\n",
      "_________________________________________________________________\n"
     ]
    }
   ],
   "source": [
    "encoder.summary()\n"
   ]
  },
  {
   "cell_type": "code",
   "execution_count": 65,
   "id": "9528b951",
   "metadata": {},
   "outputs": [],
   "source": [
    "encoder.save_weights(\"/tmp/encoder.h5\")"
   ]
  },
  {
   "cell_type": "code",
   "execution_count": 64,
   "id": "afdb4231",
   "metadata": {
    "scrolled": false
   },
   "outputs": [
    {
     "name": "stdout",
     "output_type": "stream",
     "text": [
      "Model: \"encoder_1\"\n",
      "_________________________________________________________________\n",
      "Layer (type)                 Output Shape              Param #   \n",
      "=================================================================\n",
      "padded_conv2d_66 (PaddedConv (None, 512, 512, 128)     3584      \n",
      "_________________________________________________________________\n",
      "resnet_block_24 (ResnetBlock (None, 512, 512, 128)     295680    \n",
      "_________________________________________________________________\n",
      "resnet_block_25 (ResnetBlock (None, 512, 512, 128)     295680    \n",
      "_________________________________________________________________\n",
      "padded_conv2d_71 (PaddedConv (None, 256, 256, 128)     147584    \n",
      "_________________________________________________________________\n",
      "resnet_block_26 (ResnetBlock (None, 256, 256, 256)     919040    \n",
      "_________________________________________________________________\n",
      "resnet_block_27 (ResnetBlock (None, 256, 256, 256)     1181184   \n",
      "_________________________________________________________________\n",
      "padded_conv2d_77 (PaddedConv (None, 128, 128, 256)     590080    \n",
      "_________________________________________________________________\n",
      "resnet_block_28 (ResnetBlock (None, 128, 128, 512)     3673088   \n",
      "_________________________________________________________________\n",
      "resnet_block_29 (ResnetBlock (None, 128, 128, 512)     4721664   \n",
      "_________________________________________________________________\n",
      "padded_conv2d_83 (PaddedConv (None, 64, 64, 512)       2359808   \n",
      "_________________________________________________________________\n",
      "resnet_block_30 (ResnetBlock (None, 64, 64, 512)       4721664   \n",
      "_________________________________________________________________\n",
      "resnet_block_31 (ResnetBlock (None, 64, 64, 512)       4721664   \n",
      "_________________________________________________________________\n",
      "resnet_block_32 (ResnetBlock (None, 64, 64, 512)       4721664   \n",
      "_________________________________________________________________\n",
      "attn_block_2 (AttnBlock)     (None, 64, 64, 512)       1051648   \n",
      "_________________________________________________________________\n",
      "resnet_block_33 (ResnetBlock (None, 64, 64, 512)       4721664   \n",
      "_________________________________________________________________\n",
      "group_normalization_134 (Gro (None, 64, 64, 512)       1024      \n",
      "_________________________________________________________________\n",
      "activation_1 (Activation)    (None, 64, 64, 512)       0         \n",
      "_________________________________________________________________\n",
      "padded_conv2d_96 (PaddedConv (None, 64, 64, 8)         36872     \n",
      "_________________________________________________________________\n",
      "padded_conv2d_97 (PaddedConv (None, 64, 64, 8)         72        \n",
      "=================================================================\n",
      "Total params: 34,163,664\n",
      "Trainable params: 34,163,664\n",
      "Non-trainable params: 0\n",
      "_________________________________________________________________\n"
     ]
    }
   ],
   "source": [
    "encoder.layers[1].summary()"
   ]
  },
  {
   "cell_type": "code",
   "execution_count": null,
   "id": "25f54b4b",
   "metadata": {},
   "outputs": [],
   "source": []
  },
  {
   "cell_type": "code",
   "execution_count": 40,
   "id": "d43f6de5",
   "metadata": {},
   "outputs": [],
   "source": [
    "# unet.save_weights(\"/tmp/unet.h5\")\n",
    "# decoder.save_weights(\"/tmp/decoder.h5\")\n",
    "# text_encoder.save_weights(\"/tmp/text_encoder.h5\")"
   ]
  },
  {
   "cell_type": "code",
   "execution_count": null,
   "id": "ebba3432",
   "metadata": {},
   "outputs": [],
   "source": []
  },
  {
   "cell_type": "code",
   "execution_count": null,
   "id": "44ad304b",
   "metadata": {},
   "outputs": [],
   "source": []
  },
  {
   "cell_type": "code",
   "execution_count": 41,
   "id": "e0e19191",
   "metadata": {
    "scrolled": true
   },
   "outputs": [],
   "source": [
    "from transformers import CLIPTokenizer\n",
    "tokenizer = CLIPTokenizer.from_pretrained(\"openai/clip-vit-base-patch32\")"
   ]
  },
  {
   "cell_type": "code",
   "execution_count": 42,
   "id": "e6f8b4e3",
   "metadata": {},
   "outputs": [],
   "source": [
    "\n",
    "\n",
    "inputs = tokenizer([\"a haloween style bedroom\"], padding=True)\n",
    "\n"
   ]
  },
  {
   "cell_type": "code",
   "execution_count": 43,
   "id": "7171475a",
   "metadata": {},
   "outputs": [],
   "source": [
    "batch_size = 1"
   ]
  },
  {
   "cell_type": "code",
   "execution_count": 44,
   "id": "ed88ef97",
   "metadata": {},
   "outputs": [],
   "source": [
    "pos_ids = tf.convert_to_tensor(np.array(list(range(77)))[None].astype('int32'))\n",
    "pos_ids = np.repeat(pos_ids , batch_size, axis=0)\n"
   ]
  },
  {
   "cell_type": "code",
   "execution_count": null,
   "id": "6c1881f1",
   "metadata": {},
   "outputs": [],
   "source": []
  },
  {
   "cell_type": "code",
   "execution_count": 45,
   "id": "d05c7c9b",
   "metadata": {},
   "outputs": [
    {
     "data": {
      "text/plain": [
       "TensorShape([1, 77, 768])"
      ]
     },
     "execution_count": 45,
     "metadata": {},
     "output_type": "execute_result"
    }
   ],
   "source": [
    "\n",
    "phrase = inputs['input_ids'][0] + [49407]*(77-len(inputs['input_ids'][0]))\n",
    "\n",
    "phrase = np.array(phrase)[None].astype(\"int32\")\n",
    "phrase = np.repeat(phrase , batch_size, axis=0)\n",
    "phrase = tf.convert_to_tensor(phrase)\n",
    "context = text_encoder([phrase,pos_ids])\n",
    "context.shape"
   ]
  },
  {
   "cell_type": "code",
   "execution_count": 46,
   "id": "c9a2f0cc",
   "metadata": {},
   "outputs": [],
   "source": [
    "phrase = [49406, 49407, 49407, 49407, 49407, 49407, 49407, 49407, 49407, 49407, 49407, 49407, 49407, 49407, 49407, 49407, 49407, 49407, 49407, 49407, 49407, 49407, 49407, 49407, 49407, 49407, 49407, 49407, 49407, 49407, 49407, 49407, 49407, 49407, 49407, 49407, 49407, 49407, 49407, 49407, 49407, 49407, 49407, 49407, 49407, 49407, 49407, 49407, 49407, 49407, 49407, 49407, 49407, 49407, 49407, 49407, 49407, 49407, 49407, 49407, 49407, 49407, 49407, 49407, 49407, 49407, 49407, 49407, 49407, 49407, 49407, 49407, 49407, 49407, 49407, 49407, 49407]\n",
    "phrase = np.array(phrase)[None].astype(\"int32\")\n",
    "phrase = np.repeat(phrase , batch_size, axis=0)\n",
    "\n",
    "phrase = tf.convert_to_tensor(phrase)\n",
    "unconditional_context = text_encoder([phrase, pos_ids])"
   ]
  },
  {
   "cell_type": "code",
   "execution_count": 47,
   "id": "14a5b228",
   "metadata": {},
   "outputs": [],
   "source": [
    "\n",
    "def timestep_embedding(timesteps, dim=320, max_period=10000):\n",
    "  half = dim // 2\n",
    "  freqs = np.exp(-math.log(max_period) * np.arange(0, half, dtype=np.float32) / half)\n",
    "  print(freqs.shape)\n",
    "  args = np.array(timesteps) * freqs\n",
    "  embedding = np.concatenate([np.cos(args), np.sin(args)])\n",
    "  return (embedding).reshape(1, -1)"
   ]
  },
  {
   "cell_type": "code",
   "execution_count": null,
   "id": "a3e31424",
   "metadata": {},
   "outputs": [],
   "source": []
  },
  {
   "cell_type": "code",
   "execution_count": 48,
   "id": "b2be335e",
   "metadata": {},
   "outputs": [],
   "source": [
    "def get_model_output(latent, t):\n",
    "    # put into diffuser\n",
    "    timesteps = np.array([t])\n",
    "    t_emb = tf.convert_to_tensor(timestep_embedding(timesteps))\n",
    "    t_emb = np.repeat(t_emb , batch_size, axis=0)\n",
    "\n",
    "    \n",
    "    unconditional_latent = unet([latent, t_emb, unconditional_context])\n",
    "    latent = unet([latent, t_emb, context])\n",
    "    unconditional_guidance_scale = 7.5\n",
    "    e_t = unconditional_latent + unconditional_guidance_scale * (latent - unconditional_latent)\n",
    "    return e_t"
   ]
  },
  {
   "cell_type": "code",
   "execution_count": 49,
   "id": "9d451f14",
   "metadata": {},
   "outputs": [],
   "source": [
    "n_init = 16 # set n init 0 for txt2txt mode ,, something like 0.5* timesteps for img2img\n",
    "\n",
    "# more the n_init , more the noise will be applied on the input image"
   ]
  },
  {
   "cell_type": "code",
   "execution_count": null,
   "id": "0807b17a",
   "metadata": {},
   "outputs": [],
   "source": []
  },
  {
   "cell_type": "code",
   "execution_count": 50,
   "id": "722af063",
   "metadata": {
    "scrolled": true
   },
   "outputs": [
    {
     "name": "stdout",
     "output_type": "stream",
     "text": [
      "running for [1, 41, 81, 121, 161, 201, 241, 281, 321, 361, 401, 441, 481, 521, 561, 601, 641, 681, 721, 761, 801, 841, 881, 921, 961] timesteps\n"
     ]
    }
   ],
   "source": [
    "TIMESTEPS = int(os.getenv(\"TIMESTEPS\", \"25\"))\n",
    "timesteps = list(np.arange(1, 1000, 1000//TIMESTEPS))\n",
    "\n",
    "print(f\"running for {timesteps} timesteps\")"
   ]
  },
  {
   "cell_type": "code",
   "execution_count": null,
   "id": "9612e08f",
   "metadata": {},
   "outputs": [],
   "source": []
  },
  {
   "cell_type": "code",
   "execution_count": 51,
   "id": "57d9816b",
   "metadata": {},
   "outputs": [],
   "source": [
    "alphas_cumprod = weights['state_dict']['alphas_cumprod'].numpy()"
   ]
  },
  {
   "cell_type": "code",
   "execution_count": null,
   "id": "0a698e47",
   "metadata": {},
   "outputs": [],
   "source": []
  },
  {
   "cell_type": "code",
   "execution_count": null,
   "id": "d7eb7c84",
   "metadata": {},
   "outputs": [],
   "source": []
  },
  {
   "cell_type": "code",
   "execution_count": 52,
   "id": "60c30cec",
   "metadata": {},
   "outputs": [],
   "source": [
    "alphas = [alphas_cumprod[t] for t in timesteps]\n",
    "alphas_prev = [1.0] + alphas[:-1]"
   ]
  },
  {
   "cell_type": "code",
   "execution_count": 53,
   "id": "681259b8",
   "metadata": {},
   "outputs": [],
   "source": [
    "def get_x_prev_and_pred_x0(x, e_t, index):\n",
    "    temperature = 1\n",
    "    a_t, a_prev = alphas[index], alphas_prev[index]\n",
    "    sigma_t = 0\n",
    "    sqrt_one_minus_at = math.sqrt(1-a_t)\n",
    "    #print(a_t, a_prev, sigma_t, sqrt_one_minus_at)\n",
    "\n",
    "    pred_x0 = (x - sqrt_one_minus_at * e_t) / math.sqrt(a_t)\n",
    "\n",
    "    # direction pointing to x_t\n",
    "    dir_xt = math.sqrt(1. - a_prev - sigma_t**2) * e_t\n",
    "    noise = sigma_t *  tf.random.normal(x.shape) * temperature\n",
    "\n",
    "    x_prev = math.sqrt(a_prev) * pred_x0 + dir_xt #+ noise\n",
    "    return x_prev, pred_x0"
   ]
  },
  {
   "cell_type": "code",
   "execution_count": null,
   "id": "310e98ca",
   "metadata": {},
   "outputs": [],
   "source": []
  },
  {
   "cell_type": "code",
   "execution_count": 54,
   "id": "000c4202",
   "metadata": {},
   "outputs": [
    {
     "data": {
      "image/png": "[encoded data removed]",
      "text/plain": [
       "<Figure size 432x288 with 1 Axes>"
      ]
     },
     "metadata": {
      "needs_background": "light"
     },
     "output_type": "display_data"
    },
    {
     "data": {
      "text/plain": [
       "<matplotlib.image.AxesImage at 0x4a795ec10>"
      ]
     },
     "execution_count": 54,
     "metadata": {},
     "output_type": "execute_result"
    },
    {
     "data": {
      "image/png": "[encoded data removed]",
      "text/plain": [
       "<Figure size 432x288 with 1 Axes>"
      ]
     },
     "metadata": {
      "needs_background": "light"
     },
     "output_type": "display_data"
    }
   ],
   "source": [
    "input_image = \"/Users/divamgupta/Downloads/bed.png\"\n",
    "# lets test the AE\n",
    "import cv2\n",
    "im = cv2.imread(input_image)\n",
    "im = cv2.resize(im , (512,512))\n",
    "im = (im.astype(\"float\")[... , ::-1 ] / 255.0)*2 - 1 \n",
    "plt.imshow(np.clip((im+1)/2, 0 , 1 ))\n",
    "plt.show()\n",
    "inp_img_z = encoder(im[None])[ ... , :4]  * 0.18215\n",
    "dec = decoder(inp_img_z )\n",
    "plt.imshow(np.clip((dec.numpy()[0]+1)/2, 0 , 1 ))\n"
   ]
  },
  {
   "cell_type": "code",
   "execution_count": null,
   "id": "226f894a",
   "metadata": {},
   "outputs": [],
   "source": []
  },
  {
   "cell_type": "code",
   "execution_count": null,
   "id": "9279713e",
   "metadata": {},
   "outputs": [],
   "source": [
    "def add_noise(x , t ):\n",
    "    noise = tf.random.normal((batch_size,64,64,4))\n",
    "    sqrt_alpha_prod = alphas_cumprod[t] ** 0.5\n",
    "    sqrt_one_minus_alpha_prod = (1 - alphas_cumprod[t]) ** 0.5\n",
    "\n",
    "    return  sqrt_alpha_prod * x + sqrt_one_minus_alpha_prod * noise"
   ]
  },
  {
   "cell_type": "code",
   "execution_count": null,
   "id": "10141e91",
   "metadata": {},
   "outputs": [],
   "source": [
    "if n_init == 0:\n",
    "    latent = tf.random.normal((batch_size,64,64,4))\n",
    "else:\n",
    "    latent = inp_img_z\n",
    "    latent = add_noise(latent , timesteps[n_init] )"
   ]
  },
  {
   "cell_type": "code",
   "execution_count": null,
   "id": "b936b446",
   "metadata": {},
   "outputs": [],
   "source": []
  },
  {
   "cell_type": "code",
   "execution_count": null,
   "id": "9d06560e",
   "metadata": {},
   "outputs": [],
   "source": [
    "decoded = decoder(latent)\n",
    "plt.imshow(np.clip((decoded[0].numpy()+1)/2, 0 , 1 ))"
   ]
  },
  {
   "cell_type": "code",
   "execution_count": null,
   "id": "b22f746e",
   "metadata": {},
   "outputs": [],
   "source": [
    "if n_init > 0:\n",
    "    timesteps = timesteps[: n_init ]"
   ]
  },
  {
   "cell_type": "code",
   "execution_count": null,
   "id": "3e622e3c",
   "metadata": {},
   "outputs": [],
   "source": [
    "from tqdm import tqdm"
   ]
  },
  {
   "cell_type": "code",
   "execution_count": null,
   "id": "332f01cb",
   "metadata": {
    "scrolled": false
   },
   "outputs": [],
   "source": [
    "for index, timestep in (t:=tqdm(list(enumerate(timesteps))[::-1])):\n",
    "    t.set_description(\"%3d %3d\" % (index, timestep))\n",
    "    e_t = get_model_output(latent, timestep)\n",
    "    x_prev, pred_x0 = get_x_prev_and_pred_x0(latent, e_t, index)\n",
    "    latent = x_prev\n"
   ]
  },
  {
   "cell_type": "code",
   "execution_count": null,
   "id": "30f061f1",
   "metadata": {},
   "outputs": [],
   "source": [
    "decoded = decoder(latent)"
   ]
  },
  {
   "cell_type": "code",
   "execution_count": null,
   "id": "15ac4713",
   "metadata": {
    "scrolled": false
   },
   "outputs": [],
   "source": [
    "plt.imshow(np.clip((decoded[0].numpy()+1)/2, 0 , 1 ))"
   ]
  },
  {
   "cell_type": "code",
   "execution_count": null,
   "id": "1e0f5df1",
   "metadata": {
    "scrolled": false
   },
   "outputs": [],
   "source": [
    "im = (np.clip((decoded[0].numpy()+1)/2, 0 , 1 )*255).astype('uint8')[... , ::-1 ]\n",
    "cv2.imwrite(\"/Users/divamgupta/Downloads/out.png\" , im )"
   ]
  },
  {
   "cell_type": "code",
   "execution_count": null,
   "id": "450eabb4",
   "metadata": {},
   "outputs": [],
   "source": []
  },
  {
   "cell_type": "code",
   "execution_count": null,
   "id": "d42f204c",
   "metadata": {},
   "outputs": [],
   "source": []
  },
  {
   "cell_type": "code",
   "execution_count": null,
   "id": "968afc34",
   "metadata": {},
   "outputs": [],
   "source": []
  },
  {
   "cell_type": "code",
   "execution_count": null,
   "id": "35dae2c8",
   "metadata": {},
   "outputs": [],
   "source": []
  }
 ],
 "metadata": {
  "kernelspec": {
   "display_name": "Python 3 (ipykernel)",
   "language": "python",
   "name": "python3"
  },
  "language_info": {
   "codemirror_mode": {
    "name": "ipython",
    "version": 3
   },
   "file_extension": ".py",
   "mimetype": "text/x-python",
   "name": "python",
   "nbconvert_exporter": "python",
   "pygments_lexer": "ipython3",
   "version": "3.9.10"
  }
 },
 "nbformat": 4,
 "nbformat_minor": 5
}
